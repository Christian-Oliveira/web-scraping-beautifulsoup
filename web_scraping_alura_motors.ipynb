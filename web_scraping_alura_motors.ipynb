{
  "nbformat": 4,
  "nbformat_minor": 0,
  "metadata": {
    "colab": {
      "name": "web-scraping-alura-motors.ipynb",
      "provenance": [],
      "collapsed_sections": [
        "BJuEc6MLT4H8",
        "3XgMzg10Ulk0",
        "a7YeH3aOPYU9",
        "Ko7IxIXKVqkz",
        "PaFB1GOUgvgF"
      ],
      "mount_file_id": "1xlazT5QdV6EWInhbYXvwWjMSMnAXslrA",
      "authorship_tag": "ABX9TyNeK+kdE3teTGqO3uY+WxrK",
      "include_colab_link": true
    },
    "kernelspec": {
      "name": "python3",
      "display_name": "Python 3"
    },
    "language_info": {
      "name": "python"
    }
  },
  "cells": [
    {
      "cell_type": "markdown",
      "metadata": {
        "id": "view-in-github",
        "colab_type": "text"
      },
      "source": [
        "<a href=\"https://colab.research.google.com/github/Christian-Oliveira/web-scraping-beautifulsoup/blob/main/web_scraping_alura_motors.ipynb\" target=\"_parent\"><img src=\"https://colab.research.google.com/assets/colab-badge.svg\" alt=\"Open In Colab\"/></a>"
      ]
    },
    {
      "cell_type": "code",
      "source": [
        "pip install requests"
      ],
      "metadata": {
        "id": "eLwwK2RKi-bW"
      },
      "execution_count": null,
      "outputs": []
    },
    {
      "cell_type": "code",
      "source": [
        "pip install beautifulsoup4"
      ],
      "metadata": {
        "id": "9w2hTQBejSAe"
      },
      "execution_count": null,
      "outputs": []
    },
    {
      "cell_type": "code",
      "source": [
        "pip install wget"
      ],
      "metadata": {
        "id": "L7AkxtSkjTZI"
      },
      "execution_count": null,
      "outputs": []
    },
    {
      "cell_type": "markdown",
      "source": [
        "### **Inicializando bibliotecas Acessando o site alvo e covertendo para objeto BeautifulSoup**"
      ],
      "metadata": {
        "id": "BJuEc6MLT4H8"
      }
    },
    {
      "cell_type": "code",
      "execution_count": 2,
      "metadata": {
        "id": "-mdRx6FN9oYB"
      },
      "outputs": [],
      "source": [
        "import requests\n",
        "from bs4 import BeautifulSoup\n",
        "\n",
        "response = requests.get(\"http://alura-site-scraping.herokuapp.com/index.php\").text\n",
        "soup = BeautifulSoup(response, \"html.parser\")"
      ]
    },
    {
      "cell_type": "markdown",
      "source": [
        "### **Função para capturar informações dos cards**"
      ],
      "metadata": {
        "id": "3XgMzg10Ulk0"
      }
    },
    {
      "cell_type": "code",
      "source": [
        "cards = []\n",
        "card = {}\n",
        "\n",
        "publication = soup.find('div', {'class': \"well card\"})\n",
        "card['value'] = publication.find('p', {'class': \"txt-value\"}).getText()\n",
        "informations = publication.find('div', {'class': \"body-card\"}).findAll('p')\n",
        "\n",
        "for info in informations:\n",
        "  key = info.get('class')[0].split('-')[-1]\n",
        "  card[key] = info.getText()"
      ],
      "metadata": {
        "id": "6zHQd3QVU5XB"
      },
      "execution_count": 4,
      "outputs": []
    },
    {
      "cell_type": "markdown",
      "source": [
        "### **Capturando items dos veiculos nos anuncios**"
      ],
      "metadata": {
        "id": "a7YeH3aOPYU9"
      }
    },
    {
      "cell_type": "code",
      "source": [
        "items = publication.find('div', {'class': \"body-card\"}).findAll('li')\n",
        "items.pop()\n",
        "props = []\n",
        "\n",
        "for item in items:\n",
        "  item_formated = item.getText().replace('► ', '')\n",
        "  props.append(item_formated)\n",
        "\n",
        "card['items'] = props\n",
        "card"
      ],
      "metadata": {
        "id": "x5iEDGuZPg6d"
      },
      "execution_count": null,
      "outputs": []
    },
    {
      "cell_type": "markdown",
      "source": [
        "### **Criando DataFrame com Pandas**"
      ],
      "metadata": {
        "id": "Ko7IxIXKVqkz"
      }
    },
    {
      "cell_type": "code",
      "source": [
        "import pandas as pd\n",
        "\n",
        "dataset = pd.DataFrame.from_dict(card, orient='index').T\n",
        "dataset.to_csv('./drive/MyDrive/Colab Notebooks/data/dataset.csv', sep=';', index=False, encoding='utf-8-sig')"
      ],
      "metadata": {
        "id": "lJOYl8KTVmql"
      },
      "execution_count": 29,
      "outputs": []
    },
    {
      "cell_type": "markdown",
      "source": [
        "### **Capturando fotos dos veículos nos anuncios e fazendo download**"
      ],
      "metadata": {
        "id": "PaFB1GOUgvgF"
      }
    },
    {
      "cell_type": "code",
      "source": [
        "import wget\n",
        "\n",
        "img_source = publication.find('div', {'class': \"image-card\"}).img.get('src')\n",
        "name_image = img_source.split('/')[-1]\n",
        "wget.download(img_source, out=f\"./drive/MyDrive/Colab Notebooks/img/{name_image}\")"
      ],
      "metadata": {
        "id": "yiw4VLuIgrA1"
      },
      "execution_count": null,
      "outputs": []
    },
    {
      "cell_type": "markdown",
      "source": [
        "### **Acessando proximas páginas dos anuncios**"
      ],
      "metadata": {
        "id": "2IBKT1V55sMz"
      }
    },
    {
      "cell_type": "code",
      "source": [
        "page = int(soup.find('span', {'class': \"info-pages\"}).getText().split()[-1])\n",
        "page"
      ],
      "metadata": {
        "colab": {
          "base_uri": "https://localhost:8080/"
        },
        "id": "rYOeVJKN5rdY",
        "outputId": "9d2213d6-c365-4614-eb8e-b4e5a827fc7f"
      },
      "execution_count": 75,
      "outputs": [
        {
          "output_type": "execute_result",
          "data": {
            "text/plain": [
              "25"
            ]
          },
          "metadata": {},
          "execution_count": 75
        }
      ]
    },
    {
      "cell_type": "markdown",
      "source": [
        "# **Web Scrapping do curso da Alura**"
      ],
      "metadata": {
        "id": "mLT4NUSIqZUT"
      }
    },
    {
      "cell_type": "code",
      "source": [
        "import requests, wget\n",
        "from bs4 import BeautifulSoup\n",
        "import pandas as pd\n",
        "\n",
        "\n",
        "URL_BASE = \"http://alura-site-scraping.herokuapp.com/index.php\"\n",
        "\n",
        "### Acessando site de anúncios\n",
        "response = requests.get(URL_BASE).text\n",
        "soup = BeautifulSoup(response, \"html.parser\")\n",
        "\n",
        "total_pages = int(soup.find('span', {'class': \"info-pages\"}).getText().split()[-1])\n",
        "\n",
        "for page in range(total_pages):\n",
        "  ### acessando HTML da pagina\n",
        "  response = requests.get(f\"{URL_BASE}?page={page+1}\").text\n",
        "  soup = BeautifulSoup(response, \"html.parser\")\n",
        "\n",
        "  ### capturando anúncios na pagina\n",
        "  publications = soup.find('div', {'id': \"container-cards\"}).findAll('div', {'class': \"well card\"})\n",
        "  for publication in publications:\n",
        "    card = {}\n",
        "\n",
        "    ### informações do card\n",
        "    card['value'] = publication.find('p', {'class': \"txt-value\"}).getText()\n",
        "    informations = publication.find('div', {'class': \"body-card\"}).findAll('p')\n",
        "    for info in informations:\n",
        "      key = info.get('class')[0].split('-')[-1]\n",
        "      card[key] = info.getText()\n",
        "\n",
        "    ### capturando informações de acessórios do anuncio\n",
        "    items = publication.find('div', {'class': \"body-card\"}).findAll('li')\n",
        "    items.pop()\n",
        "    props = []\n",
        "    for item in items:\n",
        "      item_formated = item.getText().replace('► ', '')\n",
        "      props.append(item_formated)\n",
        "\n",
        "    card['items'] = props\n",
        "\n",
        "    ### capturando as imagens e fazendo download\n",
        "    img_source = publication.find('div', {'class': \"image-card\"}).img.get('src')\n",
        "    name_image = img_source.split('/')[-1]\n",
        "    wget.download(img_source, out=f\"./drive/MyDrive/Colab Notebooks/img/{name_image}\")\n",
        "\n",
        "    ### add o card a lista de cards\n",
        "    cards.append(card)\n",
        "\n",
        "### criando dataframe e gerando csv\n",
        "dataset = pd.DataFrame(cards)\n",
        "dataset.to_csv('./drive/MyDrive/Colab Notebooks/data/dataset.csv', sep=';', index=False, encoding='utf-8-sig')"
      ],
      "metadata": {
        "colab": {
          "base_uri": "https://localhost:8080/"
        },
        "id": "muIFo77xqFp8",
        "outputId": "a9497e72-93c4-442f-e543-cfc1f2a6e772"
      },
      "execution_count": 77,
      "outputs": [
        {
          "output_type": "execute_result",
          "data": {
            "text/plain": [
              "512"
            ]
          },
          "metadata": {},
          "execution_count": 77
        }
      ]
    }
  ]
}